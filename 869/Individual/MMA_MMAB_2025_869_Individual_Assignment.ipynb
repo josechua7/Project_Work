{
 "cells": [
  {
   "cell_type": "markdown",
   "metadata": {
    "id": "HKmorPdno_n_"
   },
   "source": [
    "# MMA/MMAB 869 2024: Individual Assignment\n",
    "- [Jose Chua]\n",
    "- [20069208]\n",
    "- [MMAS 2025]\n",
    "- [Dec 8th 2024]"
   ]
  },
  {
   "cell_type": "markdown",
   "metadata": {
    "id": "emfFtv4aHBI1"
   },
   "source": [
    "# Assignment Instructions\n",
    "\n",
    "This assignment contains four questions. The questions are fully contained in this Google Colab Notebook.\n",
    "\n",
    "You are to make a copy of this Notebook and edit the copy to provide your answers. You are to complete the assignment entirely within Google Colab. Why?\n",
    "\n",
    "- It gives you practice using cloud-based interactive notebook environments (which is a popular workflow)\n",
    "- It is easier for you to manage the environment (e.g., installing packages, etc.)\n",
    "- Google Colab has nice, beefy machines, so you don't have to worry about running out of memory on your local computer.\n",
    "- It will be easier for the TA to help you debug your code if you need help\n",
    "- It will be easier for the TA to mark/run your code\n",
    "\n",
    "Some parts of this assigment require you to write code. Use Python or R. For Python, you may use standard Python libraries, including `scikit-learn`, `pandas`, `numpy`, and `scipy`. For R, you may use `dplyr`, `caret`, `ggplot2`, `rpart` and other standard libraries.\n",
    "\n",
    "Some parts of this assignment require text responses. In these cases, type your response in the Notebook cell indicated. Use English. Use proper grammar, spelling, and punctuation. Be professional and clear. Be complete, but not overly-verbose. Feel free to use [Markdown syntax](https://www.markdownguide.org/basic-syntax/) to format your answer (i.e., add bold, italics, lists, tables).\n",
    "\n",
    "## What to Submit to the Course Portal\n",
    "\n",
    "- Export your completed Notebook as a PDF file by clicking File->Print->Save as PDF.\n",
    "- Please do not submit the Notebook file (`.ipynb`) to the course portal.\n",
    "- Please submit the PDF export of the Notebook.\n",
    "   - Please name the PDF file `2024_869_FirstnameLastName.pdf`\n",
    "      - E.g., `869_NasrinYousefi.pdf`\n",
    "   - Please make sure you have run all the cells so we can see the output!\n",
    "   - Best practice: Before exporting to PDF click Runtime->Restart and run all.\n",
    "\n"
   ]
  },
  {
   "cell_type": "markdown",
   "metadata": {
    "id": "oZFTCX4DqmRO"
   },
   "source": [
    "# Preliminaries: Inspect and Set up environment\n",
    "\n",
    "No action is required on your part in this section. These cells print out helpful information about the environment, just in case."
   ]
  },
  {
   "cell_type": "code",
   "execution_count": 1,
   "metadata": {
    "id": "xj34Jz-Do_oK"
   },
   "outputs": [],
   "source": [
    "import datetime\n",
    "import pandas as pd\n",
    "import numpy as np\n",
    "from datetime import datetime\n",
    "import matplotlib.pyplot as plt\n",
    "from sklearn.cluster import KMeans\n",
    "from sklearn.preprocessing import StandardScaler\n",
    "from sklearn.cluster import DBSCAN\n",
    "from scipy.cluster.hierarchy import linkage\n",
    "from scipy.cluster.hierarchy import dendrogram\n",
    "from scipy.cluster.hierarchy import fcluster\n",
    "from sklearn.tree import DecisionTreeClassifier\n",
    "from sklearn.metrics import accuracy_score, classification_report, confusion_matrix\n",
    "from sklearn.metrics import confusion_matrix, accuracy_score, f1_score, recall_score, precision_score, roc_auc_score\n",
    "from sklearn.decomposition import PCA\n"
   ]
  },
  {
   "cell_type": "code",
   "execution_count": 2,
   "metadata": {
    "id": "mqQ_XOKyXTS6"
   },
   "outputs": [
    {
     "name": "stdout",
     "output_type": "stream",
     "text": [
      "2024-12-08 17:56:35.740144\n"
     ]
    }
   ],
   "source": [
    "print(datetime.now())"
   ]
  },
  {
   "cell_type": "code",
   "execution_count": 3,
   "metadata": {
    "id": "LfOMt1lErLhZ"
   },
   "outputs": [
    {
     "name": "stderr",
     "output_type": "stream",
     "text": [
      "'which' is not recognized as an internal or external command,\n",
      "operable program or batch file.\n"
     ]
    }
   ],
   "source": [
    "!which python"
   ]
  },
  {
   "cell_type": "code",
   "execution_count": 4,
   "metadata": {
    "id": "aub2w1-arM5K"
   },
   "outputs": [
    {
     "name": "stdout",
     "output_type": "stream",
     "text": [
      "Python 3.12.3\n"
     ]
    }
   ],
   "source": [
    "!python --version"
   ]
  },
  {
   "cell_type": "code",
   "execution_count": 5,
   "metadata": {
    "id": "E9Y_n_8UrO9i"
   },
   "outputs": [
    {
     "name": "stdout",
     "output_type": "stream",
     "text": [
      "$PYTHONPATH\n"
     ]
    }
   ],
   "source": [
    "!echo $PYTHONPATH"
   ]
  },
  {
   "cell_type": "code",
   "execution_count": 6,
   "metadata": {
    "id": "-qyD7Jl0Gw1E"
   },
   "outputs": [],
   "source": [
    "# TODO: install any packages you need to here. For example:\n",
    "#pip install unidecode\n"
   ]
  },
  {
   "cell_type": "markdown",
   "metadata": {
    "id": "RLlBjIyS2o54"
   },
   "source": [
    "# Question 1: Uncle Steve's Diamonds"
   ]
  },
  {
   "cell_type": "markdown",
   "metadata": {
    "id": "qj1NSQelo_oN"
   },
   "source": [
    "## Instructions\n",
    "\n",
    "You work at a local jewelry store named *Uncle Steve's Diamonds*. You started as a janitor, but you’ve recently been promoted to senior data analyst. Congratulations!\n",
    "\n",
    "Uncle Steve, the store's owner, needs to better understand the store's customers. In particular, he wants to know what kind of customers shop at the store. He wants to know the main types of *customer personas*. Once he knows these, he will contemplate ways to better market to each persona, better satisfy each persona, better cater to each persona, increase the loyalty of each persona, etc. But first, he must know the personas.\n",
    "\n",
    "You want to help Uncle Steve. Using sneaky magic (and the help of Environics), you've collected four useful features for a subset of the customers: age, income, spending score (i.e., a score based on how much they’ve spent at the store in total), and savings (i.e., how much money they have in their bank account).\n",
    "\n",
    "**Your tasks**\n",
    "\n",
    "1. Pick a clustering algorithm (the [`sklearn.cluster`](https://scikit-learn.org/stable/modules/classes.html#module-sklearn.cluster) module has many good choices, including [`KMeans`](https://scikit-learn.org/stable/modules/generated/sklearn.cluster.KMeans.html#sklearn.cluster.KMeans), [`DBSCAN`](https://scikit-learn.org/stable/modules/generated/sklearn.cluster.DBSCAN.html#sklearn.cluster.DBSCAN), and [`AgglomerativeClustering`](https://scikit-learn.org/stable/modules/generated/sklearn.cluster.AgglomerativeClustering.html#sklearn.cluster.AgglomerativeClustering) (aka Hierarchical)). (Note that another popular implementation of the hierarchical algorithm can be found in SciPy's [`scipy.cluster.hierarchy.linkage`](https://docs.scipy.org/doc/scipy/reference/generated/scipy.cluster.hierarchy.linkage.html).) Don't spend a lot of time thinking about which algorithm to choose - just pick one. Cluster the customers as best as you can, within reason. That is, try different feature preprocessing steps, hyperparameter values, and/or distance metrics. You don't need to try every posssible combination, but try a few at least. Measure how good each  model configuration is by calculating an internal validation metric (e.g., [`calinski_harabasz_score`](https://scikit-learn.org/stable/modules/generated/sklearn.metrics.calinski_harabasz_score.html) or [`silhouette_score`](https://scikit-learn.org/stable/modules/generated/sklearn.metrics.silhouette_score.html#sklearn.metrics.silhouette_score)).\n",
    "2. You have some doubts - you're not sure if the algorithm you chose in part 1 is the best algorithm for this dataset/problem. Neither is Uncle Steve. So, choose a different algorithm (any!) and do it all again.\n",
    "3. Which clustering algorithm is \"better\" in this case? Think about charateristics of the algorithm like quality of results, ease of use, speed, interpretability, etc. Choose a \"winner\" and justify to Uncle Steve.\n",
    "4. Interpret the clusters of the winning model. That is, describe, in words, a *persona* that accurately depicts each cluster. Use statistics (e.g., cluster means/distributions), examples (e.g., exemplar instances from each cluster), and/or visualizations (e.g., relative importance plots, snakeplots) to get started. Human judgement and creativity will be necessary. This is where it all comes together. Be descriptive and *help Uncle Steve understand his customers better*. Please!\n",
    "\n",
    "**Marking**\n",
    "\n",
    "The coding parts (i.e., 1 and 2) will be marked based on:\n",
    "\n",
    "- *Correctness*. Code clearly and fully performs the task specified.\n",
    "- *Reproducibility*. Code is fully reproducible. I.e., you (and I) are able to run this Notebook again and again, from top to bottom, and get the same results each time.\n",
    "- *Style*. Code is organized. All parts commented with clear reasoning and rationale. No old code laying around. Code easy to follow.\n",
    "\n",
    "\n",
    "Parts 3 and 4 will be marked on:\n",
    "\n",
    "- *Quality*. Response is well-justified and convincing. Responses uses facts and data where possible.\n",
    "- *Style*. Response uses proper grammar, spelling, and punctuation. Response is clear and professional. Response is complete, but not overly-verbose. Response follows length guidelines.\n",
    "\n",
    "\n",
    "**Tips**\n",
    "\n",
    "- Since clustering is an unsupervised ML technique, you don't need to split the data into training/validation/test or anything like that. Phew!\n",
    "- On the flip side, since clustering is unsupervised, you will never know the \"true\" clusters, and so you will never know if a given algorithm is \"correct.\" There really is no notion of \"correctness\" - only \"usefullness.\"\n",
    "- Many online clustering tutorials (including some from Uncle Steve) create flashy visualizations of the clusters by plotting the instances on a 2-D graph and coloring each point by the cluster ID. This is really nice and all, but it can only work if your dataset only has exactly two features - no more, no less. This dataset has more than two features, so you cannot use this technique. (But that's OK - you don't need to use this technique.)\n",
    "- Must you use all four features in the clustering? Not necessarily, no. But \"throwing away\" quality data, for no reason, is unlikely to improve a model.\n",
    "- Some people have success applying a dimensionality reduction technique (like [`sklearn.decomposition.PCA`](https://scikit-learn.org/stable/modules/generated/sklearn.decomposition.PCA.html)) to the features before clustering. You may do this if you wish, although it may not be as helpful in this case because there are only four features to begin with.\n",
    "- If you apply a transformation (e.g., [`MinMaxScaler`](https://scikit-learn.org/stable/modules/generated/sklearn.preprocessing.MinMaxScaler.html) or [`StandardScaler`](https://scikit-learn.org/stable/modules/generated/sklearn.preprocessing.StandardScaler.html#sklearn.preprocessing.StandardScaler)) to the features before clustering, you may have difficulty interpretting the means of the clusters (e.g., what is a mean Age of 0.2234??). There are two options to fix this: first, you can always reverse a transformation with the `inverse_transform` method. Second, you can just use the original dataset (i.e., before any preprocessing) during the interpreation step.\n",
    "- You cannot change the distance metric for K-Means. (This is for theoretical reasons: K-Means only works/makes sense with Euclidean distance.)\n"
   ]
  },
  {
   "cell_type": "markdown",
   "metadata": {
    "id": "Yww0-vtpOw7z"
   },
   "source": [
    "## 1.0: Load data"
   ]
  },
  {
   "cell_type": "code",
   "execution_count": 7,
   "metadata": {
    "id": "qVWx2c-DhQYo"
   },
   "outputs": [
    {
     "name": "stdout",
     "output_type": "stream",
     "text": [
      "<class 'pandas.core.frame.DataFrame'>\n",
      "RangeIndex: 505 entries, 0 to 504\n",
      "Data columns (total 4 columns):\n",
      " #   Column         Non-Null Count  Dtype  \n",
      "---  ------         --------------  -----  \n",
      " 0   Age            505 non-null    int64  \n",
      " 1   Income         505 non-null    int64  \n",
      " 2   SpendingScore  505 non-null    float64\n",
      " 3   Savings        505 non-null    float64\n",
      "dtypes: float64(2), int64(2)\n",
      "memory usage: 15.9 KB\n"
     ]
    }
   ],
   "source": [
    "# DO NOT MODIFY THIS CELL\n",
    "df1 = pd.read_csv(\"https://drive.google.com/uc?export=download&id=1thHDCwQK3GijytoSSZNekAsItN_FGHtm\")\n",
    "df1.info()"
   ]
  },
  {
   "cell_type": "markdown",
   "metadata": {
    "id": "R04NzckZKbG2"
   },
   "source": [
    "## 1.1: Clustering Algorithm #1: K-means"
   ]
  },
  {
   "cell_type": "code",
   "execution_count": 8,
   "metadata": {
    "id": "Qeavkicwo_oN"
   },
   "outputs": [
    {
     "data": {
      "text/html": [
       "<div>\n",
       "<style scoped>\n",
       "    .dataframe tbody tr th:only-of-type {\n",
       "        vertical-align: middle;\n",
       "    }\n",
       "\n",
       "    .dataframe tbody tr th {\n",
       "        vertical-align: top;\n",
       "    }\n",
       "\n",
       "    .dataframe thead th {\n",
       "        text-align: right;\n",
       "    }\n",
       "</style>\n",
       "<table border=\"1\" class=\"dataframe\">\n",
       "  <thead>\n",
       "    <tr style=\"text-align: right;\">\n",
       "      <th></th>\n",
       "      <th>Age</th>\n",
       "      <th>Income</th>\n",
       "      <th>SpendingScore</th>\n",
       "      <th>Savings</th>\n",
       "    </tr>\n",
       "  </thead>\n",
       "  <tbody>\n",
       "    <tr>\n",
       "      <th>0</th>\n",
       "      <td>58</td>\n",
       "      <td>77769</td>\n",
       "      <td>0.791329</td>\n",
       "      <td>6559.829923</td>\n",
       "    </tr>\n",
       "    <tr>\n",
       "      <th>1</th>\n",
       "      <td>59</td>\n",
       "      <td>81799</td>\n",
       "      <td>0.791082</td>\n",
       "      <td>5417.661426</td>\n",
       "    </tr>\n",
       "    <tr>\n",
       "      <th>2</th>\n",
       "      <td>62</td>\n",
       "      <td>74751</td>\n",
       "      <td>0.702657</td>\n",
       "      <td>9258.992965</td>\n",
       "    </tr>\n",
       "    <tr>\n",
       "      <th>3</th>\n",
       "      <td>59</td>\n",
       "      <td>74373</td>\n",
       "      <td>0.765680</td>\n",
       "      <td>7346.334504</td>\n",
       "    </tr>\n",
       "    <tr>\n",
       "      <th>4</th>\n",
       "      <td>87</td>\n",
       "      <td>17760</td>\n",
       "      <td>0.348778</td>\n",
       "      <td>16869.507130</td>\n",
       "    </tr>\n",
       "    <tr>\n",
       "      <th>5</th>\n",
       "      <td>29</td>\n",
       "      <td>131578</td>\n",
       "      <td>0.847034</td>\n",
       "      <td>3535.514352</td>\n",
       "    </tr>\n",
       "    <tr>\n",
       "      <th>6</th>\n",
       "      <td>54</td>\n",
       "      <td>76500</td>\n",
       "      <td>0.785198</td>\n",
       "      <td>6878.884249</td>\n",
       "    </tr>\n",
       "    <tr>\n",
       "      <th>7</th>\n",
       "      <td>87</td>\n",
       "      <td>42592</td>\n",
       "      <td>0.355290</td>\n",
       "      <td>18086.287158</td>\n",
       "    </tr>\n",
       "    <tr>\n",
       "      <th>8</th>\n",
       "      <td>83</td>\n",
       "      <td>34384</td>\n",
       "      <td>0.324719</td>\n",
       "      <td>14783.379086</td>\n",
       "    </tr>\n",
       "    <tr>\n",
       "      <th>9</th>\n",
       "      <td>84</td>\n",
       "      <td>27693</td>\n",
       "      <td>0.367063</td>\n",
       "      <td>17879.558906</td>\n",
       "    </tr>\n",
       "  </tbody>\n",
       "</table>\n",
       "</div>"
      ],
      "text/plain": [
       "   Age  Income  SpendingScore       Savings\n",
       "0   58   77769       0.791329   6559.829923\n",
       "1   59   81799       0.791082   5417.661426\n",
       "2   62   74751       0.702657   9258.992965\n",
       "3   59   74373       0.765680   7346.334504\n",
       "4   87   17760       0.348778  16869.507130\n",
       "5   29  131578       0.847034   3535.514352\n",
       "6   54   76500       0.785198   6878.884249\n",
       "7   87   42592       0.355290  18086.287158\n",
       "8   83   34384       0.324719  14783.379086\n",
       "9   84   27693       0.367063  17879.558906"
      ]
     },
     "execution_count": 8,
     "metadata": {},
     "output_type": "execute_result"
    }
   ],
   "source": [
    "df1.head(10)"
   ]
  },
  {
   "cell_type": "code",
   "execution_count": 9,
   "metadata": {},
   "outputs": [],
   "source": [
    "#preprocessing\n",
    "scaler = StandardScaler()\n",
    "x = scaler.fit_transform(df1)"
   ]
  },
  {
   "cell_type": "code",
   "execution_count": 10,
   "metadata": {},
   "outputs": [],
   "source": [
    "k_means= KMeans(init='k-means++',n_clusters=4,n_init=10,random_state=42)\n",
    "k_means.fit(x)\n",
    "labels=k_means.labels_"
   ]
  },
  {
   "cell_type": "code",
   "execution_count": 11,
   "metadata": {},
   "outputs": [
    {
     "name": "stdout",
     "output_type": "stream",
     "text": [
      "K Means Clustering Evaluation\n",
      "Silhouette Score: 0.7581191889903789\n",
      "Calinski-Harabasz Score: 1611.2647365421865\n"
     ]
    }
   ],
   "source": [
    "#eval metrics\n",
    "from sklearn.metrics import silhouette_score, calinski_harabasz_score\n",
    "sil_score=silhouette_score (x,labels)\n",
    "cal_score = calinski_harabasz_score(x,labels)\n",
    "\n",
    "print('K Means Clustering Evaluation')\n",
    "print(f'Silhouette Score: {sil_score}')\n",
    "print(f'Calinski-Harabasz Score: {cal_score}')"
   ]
  },
  {
   "cell_type": "code",
   "execution_count": 12,
   "metadata": {},
   "outputs": [],
   "source": [
    "#labels\n",
    "df1['clusters'] = labels"
   ]
  },
  {
   "cell_type": "code",
   "execution_count": 13,
   "metadata": {},
   "outputs": [
    {
     "name": "stdout",
     "output_type": "stream",
     "text": [
      "\n",
      "KMeans Cluster Centers\n",
      "         Age         Income  SpendingScore       Savings\n",
      "0  59.955414   72448.063694       0.771518   6889.972190\n",
      "1  87.775510   27866.102041       0.328800  16659.261445\n",
      "2  41.589404  107695.980132       0.269935  14937.265769\n",
      "3  24.180000  128029.120000       0.896892   4087.520309\n"
     ]
    }
   ],
   "source": [
    "K_means_centers=scaler.inverse_transform(k_means.cluster_centers_)\n",
    "kmeans_centers_df = pd.DataFrame(K_means_centers,columns=df1.columns[:-1])\n",
    "print(\"\\nKMeans Cluster Centers\")\n",
    "print(kmeans_centers_df)"
   ]
  },
  {
   "cell_type": "code",
   "execution_count": 14,
   "metadata": {},
   "outputs": [
    {
     "name": "stdout",
     "output_type": "stream",
     "text": [
      "        Age    Income  SpendingScore   Savings\n",
      "0  0.498230 -0.470772      -0.485166  0.542914\n",
      "1  0.474171 -0.545684       0.553190 -0.413970\n",
      "K Means Clustering Evaluation\n",
      "Silhouette Score: 0.7581191889903789\n",
      "Calinski-Harabasz Score: 1611.2647365421865\n"
     ]
    },
    {
     "name": "stderr",
     "output_type": "stream",
     "text": [
      "C:\\Users\\Jose Chua\\AppData\\Local\\Temp\\ipykernel_20396\\2349361224.py:9: UserWarning: No artists with labels found to put in legend.  Note that artists whose label start with an underscore are ignored when legend() is called with no argument.\n",
      "  plt.legend()\n"
     ]
    },
    {
     "data": {
      "image/png": "[encoded data removed]",
      "text/plain": [
       "<Figure size 640x480 with 1 Axes>"
      ]
     },
     "metadata": {},
     "output_type": "display_data"
    }
   ],
   "source": [
    "#plotting\n",
    "pca = PCA(n_components=2)\n",
    "pca_data = pca.fit_transform(x)\n",
    "\n",
    "plt.scatter(pca_data[:,0],pca_data[:,1],c=labels,cmap='Paired')\n",
    "plt.title('K_Means Clustering')\n",
    "plt.xlabel('pca 1')\n",
    "plt.ylabel('pca 2')\n",
    "plt.legend()\n",
    "\n",
    "\n",
    "#seeing the PCAs\n",
    "components_df = pd.DataFrame(\n",
    "    pca.components_, \n",
    "    columns=df1.columns[:pca.components_.shape[1]]\n",
    ")\n",
    "print(components_df)\n",
    "\n",
    "print('K Means Clustering Evaluation')\n",
    "print(f'Silhouette Score: {sil_score}')\n",
    "print(f'Calinski-Harabasz Score: {cal_score}')"
   ]
  },
  {
   "cell_type": "markdown",
   "metadata": {},
   "source": [
    "## 1.3: Clustering Algorithm #Hierarchical "
   ]
  },
  {
   "cell_type": "code",
   "execution_count": 15,
   "metadata": {
    "id": "Pu2xugQj1Mci"
   },
   "outputs": [],
   "source": [
    "#Perform hierarchical clustering\n",
    "h= linkage(x,method='ward',metric='euclidean')"
   ]
  },
  {
   "cell_type": "code",
   "execution_count": 16,
   "metadata": {},
   "outputs": [
    {
     "data": {
      "image/png": "[encoded data removed]",
      "text/plain": [
       "<Figure size 1200x500 with 1 Axes>"
      ]
     },
     "metadata": {},
     "output_type": "display_data"
    }
   ],
   "source": [
    "plt.figure(figsize=(12,5));\n",
    "dendrogram(h);"
   ]
  },
  {
   "cell_type": "code",
   "execution_count": 17,
   "metadata": {},
   "outputs": [
    {
     "data": {
      "text/html": [
       "<div>\n",
       "<style scoped>\n",
       "    .dataframe tbody tr th:only-of-type {\n",
       "        vertical-align: middle;\n",
       "    }\n",
       "\n",
       "    .dataframe tbody tr th {\n",
       "        vertical-align: top;\n",
       "    }\n",
       "\n",
       "    .dataframe thead th {\n",
       "        text-align: right;\n",
       "    }\n",
       "</style>\n",
       "<table border=\"1\" class=\"dataframe\">\n",
       "  <thead>\n",
       "    <tr style=\"text-align: right;\">\n",
       "      <th></th>\n",
       "      <th>Age</th>\n",
       "      <th>Income</th>\n",
       "      <th>SpendingScore</th>\n",
       "      <th>Savings</th>\n",
       "      <th>clusters</th>\n",
       "    </tr>\n",
       "    <tr>\n",
       "      <th>Cluster</th>\n",
       "      <th></th>\n",
       "      <th></th>\n",
       "      <th></th>\n",
       "      <th></th>\n",
       "      <th></th>\n",
       "    </tr>\n",
       "  </thead>\n",
       "  <tbody>\n",
       "    <tr>\n",
       "      <th>1</th>\n",
       "      <td>24.180000</td>\n",
       "      <td>128029.120000</td>\n",
       "      <td>0.896892</td>\n",
       "      <td>4087.520309</td>\n",
       "      <td>3.0</td>\n",
       "    </tr>\n",
       "    <tr>\n",
       "      <th>2</th>\n",
       "      <td>59.955414</td>\n",
       "      <td>72448.063694</td>\n",
       "      <td>0.771518</td>\n",
       "      <td>6889.972190</td>\n",
       "      <td>0.0</td>\n",
       "    </tr>\n",
       "    <tr>\n",
       "      <th>3</th>\n",
       "      <td>87.775510</td>\n",
       "      <td>27866.102041</td>\n",
       "      <td>0.328800</td>\n",
       "      <td>16659.261445</td>\n",
       "      <td>1.0</td>\n",
       "    </tr>\n",
       "    <tr>\n",
       "      <th>4</th>\n",
       "      <td>41.589404</td>\n",
       "      <td>107695.980132</td>\n",
       "      <td>0.269935</td>\n",
       "      <td>14937.265769</td>\n",
       "      <td>2.0</td>\n",
       "    </tr>\n",
       "  </tbody>\n",
       "</table>\n",
       "</div>"
      ],
      "text/plain": [
       "               Age         Income  SpendingScore       Savings  clusters\n",
       "Cluster                                                                 \n",
       "1        24.180000  128029.120000       0.896892   4087.520309       3.0\n",
       "2        59.955414   72448.063694       0.771518   6889.972190       0.0\n",
       "3        87.775510   27866.102041       0.328800  16659.261445       1.0\n",
       "4        41.589404  107695.980132       0.269935  14937.265769       2.0"
      ]
     },
     "execution_count": 17,
     "metadata": {},
     "output_type": "execute_result"
    }
   ],
   "source": [
    "from scipy.cluster.hierarchy import fcluster\n",
    "\n",
    "h_labels = fcluster(h, t=4, criterion='maxclust')\n",
    "df1['Cluster'] = fcluster(h,t= 4, criterion='maxclust')\n",
    "df1.groupby('Cluster').mean()"
   ]
  },
  {
   "cell_type": "code",
   "execution_count": 18,
   "metadata": {},
   "outputs": [
    {
     "name": "stdout",
     "output_type": "stream",
     "text": [
      "Silhouette Score: 0.7581191889903789\n",
      "Calinski-Harabasz Score: 1611.2647365421865\n"
     ]
    }
   ],
   "source": [
    "h_sil_score=silhouette_score(x,h_labels)\n",
    "h_cal_score=calinski_harabasz_score(x,h_labels)\n",
    "print(f\"Silhouette Score: {h_sil_score}\")\n",
    "print(f\"Calinski-Harabasz Score: {h_cal_score}\")"
   ]
  },
  {
   "cell_type": "markdown",
   "metadata": {
    "id": "6ySJIgNr1Sfy"
   },
   "source": [
    "## 1.3 Model Comparison"
   ]
  },
  {
   "cell_type": "markdown",
   "metadata": {
    "id": "gwQembOT1L6U"
   },
   "source": [
    "**Clustering Results:**\n",
    "\n",
    "**Hierarchical Clustering:**\n",
    "\n",
    "Cluster averages (Age, Income, SpendingScore, and Savings) show distinct groups with different profiles.\n",
    "The dendrogram provides a visual representation of the hierarchical relationships, showing how clusters were formed and can be merged/split.\n",
    "Provides a more intuitive grouping based on the hierarchy of the data.\n",
    "\n",
    "**K-Means Clustering:**\n",
    "\n",
    "Cluster centers (principal components) show how data points are grouped in the PCA-reduced space.\n",
    "The scatter plot of PCA components highlights well-separated clusters, indicating K-Means was effective in finding compact clusters.\n",
    "Relies heavily on the number of clusters (k=4) being predefined.\n",
    "\n",
    "**Evaluation**\n",
    "\n",
    "Both methods have the same Silhouette Score: 0.7581 and the same Calinski-Harabasz Score: 1611.26.\n",
    "This indicates that the clusters are well-separated for both methods and good clustering performance with a high ratio of between-cluster variance to within-cluster variance.\n",
    "\n",
    "**Recommendation**\n",
    "\n",
    "Between the two clustering algorithms I would choose K-Means\n",
    "\n",
    "Scalability:\n",
    "K-Means is computationally efficient and scales well to large datasets, making it practical for many real-world scenarios.\n",
    "\n",
    "Simplicity:\n",
    "The algorithm is easy to implement and understand.\n",
    "It provides intuitive results as it minimizes the variance within clusters.\n",
    "\n",
    "Suitability for Well-Separated Clusters:\n",
    "K-Means works well when the dataset has clearly separated clusters with spherical shapes (clusters that are roughly equally dense and compact).\n",
    "\n",
    "Versatility in Applications:\n",
    "Widely used in applications such as customer segmentation, market analysis, image compression, and more.\n",
    "Its simplicity makes it easy to adapt and interpret for non-technical stakeholders.\n",
    "\n",
    "Supports Dimensionality Reduction:\n",
    "Combines well with PCA to reduce high-dimensional data into a format where clustering is more effective and easier to visualize."
   ]
  },
  {
   "cell_type": "markdown",
   "metadata": {
    "id": "MP2EAnCJ1Xta"
   },
   "source": [
    "## 1.4 Personas"
   ]
  },
  {
   "cell_type": "markdown",
   "metadata": {
    "id": "dVewu2TZ1XhK"
   },
   "source": [
    "**Cluster 0: Balanced Middle-Aged Professional**\n",
    "- Age: 60 years\n",
    "- Income: $72,448\n",
    "- Spending Behavior: Moderate spender (Spending Score: 0.77).\n",
    "- Savings: $6,890.\n",
    "- Persona: This group consists of middle-aged professionals who have a decent income and a balanced approach to spending. They are financially stable but prioritize moderation in spending to maintain savings. They may be nearing retirement and value stability over extravagance.\n",
    "\n",
    "**Cluster 1: The Frugal Senior** \n",
    "- Age: 88 years\n",
    "- Income: $27,866\n",
    "- Spending Behavior: Low spender (Spending Score: 0.33).\n",
    "- Savings: $16,659.\n",
    "- Persona: This group consists of older individuals, likely retirees, who live on a lower fixed income but maintain substantial savings. They spend cautiously and prioritize financial security. They may focus on essentials and avoid unnecessary expenses.\n",
    "\n",
    "**Cluster 2: The Career-Oriented Saver**\n",
    "- Age: 42 years\n",
    "- Income: $107,696\n",
    "- Spending Behavior: Low spender (Spending Score: 0.27).\n",
    "- Savings: $14,937.\n",
    "- Persona: This group represents career-driven individuals in their prime earning years. Despite their high income, they have a conservative approach to spending, focusing on growing their savings. They may prioritize long-term goals, such as buying property or investing.\n",
    "\n",
    "**Cluster 3: Yuppies**\n",
    "- Age: 24 years\n",
    "- Income: $128,029\n",
    "- Spending Behavior: High spender (Spending Score: 0.90).\n",
    "- Savings: $4,088.\n",
    "- Persona: This group consists of young, high-earning individuals who enjoy spending and are less focused on saving. They may prioritize lifestyle and experiences, often spending on luxury or leisure. They are likely early in their careers and see wealth accumulation as a long-term goal."
   ]
  },
  {
   "cell_type": "markdown",
   "metadata": {
    "id": "DYwuYIgczYSv"
   },
   "source": [
    "# Question 2: Uncle Steve's Fine Foods"
   ]
  },
  {
   "cell_type": "markdown",
   "metadata": {
    "id": "4oCr-mTfNG-H"
   },
   "source": [
    "## Instructions\n",
    "\n",
    "Uncle Steve runs a small, local grocery store in Ontario. The store sells all the normal food staples (e.g., bread, milk, cheese, eggs, more cheese, fruits, vegatables, meat, fish, waffles, ice cream, pasta, cereals, drinks), personal care products (e.g., toothpaste, shampoo, hair goo), medicine, and cakes. There's even a little section with flowers and greeting cards! Normal people shop here, and buy normal things in the normal way.\n",
    "\n",
    "Business is OK but Uncle Steve wants more. He's thus on the hunt for customer insights. Given your success at the jewelry store, he has asked you to help him out.\n",
    "\n",
    "He has given you a few years' worth of customer transactions, i.e., sets of items that customers have purchased. You have applied an association rules learning algorithm (like Apriori) to the data, and the algorithm has generated a large set of association rules of the form `{X} -> {Y}`, where `{X}` and `{Y}` are item-sets.\n",
    "\n",
    "Now comes a thought experiment. For each of the following scenarios, state what one of the discovered association rules might be that would meet the stated condition. (Just make up the rule, using your human experience and intuition.) Also, describe whether and why each rule would be considered interesting or uninteresting for Uncle Steve (i.e., is this insight new to him? Would he be able to use it somehow?).\n",
    "\n",
    "Keep each answer to 600 characters or less (including spaces).\n",
    "\n",
    "To get those brain juices going, an example condition and answer is provided below:\n",
    "\n",
    "> Condition: A rule that has high support.\n",
    "\n",
    "> Answer: The rule `{milk} -> {bread}` would have high support, since milk and bread are household staples and a high percentage of transactions would include both `{milk}` and `{bread}`. Uncle Steve would likely not find this rule interesting, because these items are so common, he would have surely already noticed that so many transactions contain them.\n",
    "\n",
    "**Marking**\n",
    "\n",
    "Your responses will be marked as follows:\n",
    "\n",
    "- *Correctness*. Rule meets the specificed condition, and seems plausible in an Ontario grocery store.\n",
    "- *Justification of interestness*. Response clearly describes whether and why the rule would be considered interesting to Uncle Steve.\n",
    "\n",
    "**Tips**\n",
    "\n",
    "- There is no actual data for this question. This question is just a thought exercise. You need to use your intuition, creatitivty, and understanding of the real world. I assume you are familiar with what happens inside of normal grocery stores. We are not using actual data and you do not need to create/generate/find any data. I repeat: there is no data for this question.\n",
    "- The reason this question is having you do a thought experiment, rather than writing and running code to find actual association rules on an actual dataset, is because writing code to find association rules is actually pretty easy. But using your brain to come up with rules that meet certain criteria, on the other hand, is a true test of whether you understand how the algorithm works, what support and confidence mean, and the applicability of rules. The question uses the grocery store context because most, if not all, students should be familiar from personal experience.\n",
    "\n"
   ]
  },
  {
   "cell_type": "markdown",
   "metadata": {
    "id": "3YQsOb6CzYVq"
   },
   "source": [
    "## 2.1: A rule that might have high support and high confidence."
   ]
  },
  {
   "cell_type": "markdown",
   "metadata": {
    "id": "DzXu1IvK-MEg"
   },
   "source": [
    "{Bread, Milk -> Bacon}\n",
    "\n",
    "Bread, Milk and Bacon would have both high support and high confidence because bread, milk, and eggs are common breakfast staples that are frequently purchased together. The high support indicates that a significant percentage of transactions include these items, while the high confidence reflects the strong likelihood that customers buying bread and milk will also buy eggs. However, this rule may not be particularly interesting to Uncle Steve because it is an obvious insight. As these items are breakfast staples, he likely already knows this from observing customer purchases."
   ]
  },
  {
   "cell_type": "markdown",
   "metadata": {
    "id": "VNIrAgJk-L4l"
   },
   "source": [
    "## 2.2: A rule that might have reasonably high support but low confidence."
   ]
  },
  {
   "cell_type": "markdown",
   "metadata": {
    "id": "svdzYW3S-LvF"
   },
   "source": [
    "{pasta} → {wine}\n",
    "\n",
    "Pasta and wine might have reasonably high support because pasta is a popular item purchased by many customers. However, the confidence of this rule would be low, as not all customers buying pasta also purchase wine. Some customers might pair pasta with other beverages like water or soft drinks, reducing the consistency of the relationship. This rule could still be somewhat interesting for Uncle Steve, as he might use it to create a promotional strategy, such as bundling pasta and wine together or offering discounts on wine when pasta is purchased, thereby encouraging additional sales."
   ]
  },
  {
   "cell_type": "markdown",
   "metadata": {
    "id": "loe--LMz-Ll8"
   },
   "source": [
    "## 2.3: A Rule that Might have Low Support and Low Confidence"
   ]
  },
  {
   "cell_type": "markdown",
   "metadata": {
    "id": "HdyOB5fe-Zgy"
   },
   "source": [
    "{greeting cards} → {flowers}\n",
    "\n",
    "Greeting cards and flowers would likely have both low support and low confidence. The support would be low because greeting cards and flowers may not be commonly bought together, as these items are typically purchased for specific occasions. Similarly, the confidence would also be low, as customers buying greeting cards might not always purchase flowers—they might only need the card for an occasion that doesn’t involve gifting flowers. This rule would not be very interesting or actionable for Uncle Steve because of its rarity and weak correlation, limiting its potential to drive business decisions."
   ]
  },
  {
   "cell_type": "markdown",
   "metadata": {
    "id": "St2eI3We-ZYs"
   },
   "source": [
    "## 2.4: A Rule with Low Support and High Confidence."
   ]
  },
  {
   "cell_type": "markdown",
   "metadata": {
    "id": "LcdZc-B1-fE7"
   },
   "source": [
    "{medicine} → {tissues}\n",
    "\n",
    "Medicine and tissues would have low support but high confidence. The support would be low because medicine purchases are relatively rare compared to other grocery items, as not everyone needs medicine regularly. However, the confidence would be high because customers who do buy medicine, especially for colds or allergies, are very likely to also buy tissues. This rule would be highly interesting to Uncle Steve, as it offers a valuable opportunity for targeted promotions. For example, he could create a bundled offer such as “Buy medicine and get tissues at a discount,” which could encourage customers to purchase both items and increase overall sales."
   ]
  },
  {
   "cell_type": "markdown",
   "metadata": {
    "id": "B_IHoz7f2yIV"
   },
   "source": [
    "# Question 3: Uncle Steve's Credit Union"
   ]
  },
  {
   "cell_type": "markdown",
   "metadata": {
    "id": "WhERdkp_zYBY"
   },
   "source": [
    "## Instructions\n",
    "\n",
    "Uncle Steve has recently opened a new credit union in Kingston, named *Uncle Steve's Credit Union*. He plans to disrupt the local market by instaneously providing credit to customers.\n",
    "\n",
    "The first step in Uncle Steve's master plan is to create a model to predict whether an application has *good risk* or *bad risk*. He has outsourced the creation of this model to you.\n",
    "\n",
    "You are to create a classification model to predict whether a loan applicant has good risk or bad risk. You will use data  that Uncle Steve bought from another credit union (somewhere in Europe, he thinks?) that has around 6000 instances and a number of demographics features (e.g., `Sex`, `DateOfBirth`, `Married`), loan details (e.g., `Amount`, `Purpose`), credit history (e.g., number of loans), as well as an indicator (called `BadCredit` in the dataset) as to whether that person was a bad risk.\n",
    "\n",
    "\n",
    "**Your tasks**\n",
    "\n",
    "To examine the effects of the various ML stages, you are to create the model several times, each time adding more sophistication, and measuring how much the model improved (or not). In particular, you will:\n",
    "\n",
    "0. Split the data in training and testing. Don't touch the testing data again, for any reason, until step 5. We are pretending that the testing data is \"future, unseen data that our model won't see until production.\" I'm serious, don't touch it. I'm watching you!\n",
    "1. Build a baseline model - no feature engineering, no feature selection, no hyperparameter tuning (just use the default settings), nothing fancy. (You may need to do some basic feature transformations, e.g., encoding of categorical features, or dropping of features you do not think will help or do not want to deal with yet.) Measure the performance using K-fold cross validation (recommended: [`sklearn.model_selection.cross_val_score`](https://scikit-learn.org/stable/modules/generated/sklearn.model_selection.cross_val_score.html#sklearn.model_selection.cross_val_score)) on the training data. Use at least 5 folds, but more are better. Choose a [`scoring` parameter](https://scikit-learn.org/stable/modules/model_evaluation.html#scoring-parameter) (i.e., classification metric) that you feel is appropriate for this task. Don't use accuracy. Print the mean score of your model.\n",
    "2. Add a bit of feature engineering. The [`sklearn.preprocessing`](https://scikit-learn.org/stable/modules/classes.html#module-sklearn.preprocessing) module contains many useful transformations. Engineer at least three new features. They don't need to be especially ground-breaking or complicated. Dimensionality reduction techniques like [`sklearn.decomposition.PCA`](https://scikit-learn.org/stable/modules/generated/sklearn.decomposition.PCA.html) are fair game but not required. (If you do use dimensionality reduction techniques, it would only count as \"one\" new feature for the purposes of this assignment, even though I realize that PCA creates many new \"features\" (i.e., principal components).) Re-train your baseline model. Measure performance. Compare to step 1.\n",
    "3. Add feature selection. The [`sklearn.feature_selection`](https://scikit-learn.org/stable/modules/classes.html#module-sklearn.feature_selection) has some algorithms for you to choose from. After selecting features, re-train your model, measure performance, and compare to step 2.\n",
    "4. Add hyperparameter tuning. Make reasonable choices and try to find the best (or at least, better) hyperparameters for your estimator and/or transformers. It's probably a good idea to stop using `cross_val_score` at this point and start using [`sklearn.model_selection.GridSearchCV`](https://scikit-learn.org/stable/modules/generated/sklearn.model_selection.GridSearchCV.html#sklearn.model_selection.GridSearchCV) as it is specifically built for this purpose and is more convienient to use. Measure performance and compare to step 3.\n",
    "5. Finally, using your findings from the previous steps, estimate how well your model will work in production. Use the testing data (our \"future, unseen data\") from step 0. Transform the data as appropriate (easy if you've built a pipeline, a little more difficult if not), use the model from step 4 to get predictions, and measure the performance. How well did we do?\n",
    "\n",
    "\n",
    "**Marking**\n",
    "\n",
    "Each part will be marked for:\n",
    "- *Correctness*. Code clearly and fully performs the task specified.\n",
    "- *Reproducibility*. Code is fully reproducible. I.e., you (and I) should be able to run this Notebook again and again, from top to bottom, and get the same results each and every time.\n",
    "- *Style*. Code is organized. All parts commented with clear reasoning and rationale. No old code laying around. Code easy to follow.\n",
    "\n",
    "\n",
    "**Tips**\n",
    "- The origins of the dataset are a bit of a mystery. Assume the data set is recent (circa 2022) and up-to-date. Assume that column names are correct and accurate.\n",
    "- You don't need to experiment with more than one algorithm/estimator. Just choose one (e.g., [`sklearn.tree.DecisionTreeClassifier`](https://scikit-learn.org/stable/modules/generated/sklearn.tree.DecisionTreeClassifier.html#sklearn.tree.DecisionTreeClassifier), [`sklearn.ensemble.RandomForestClassifier`](https://scikit-learn.org/stable/modules/generated/sklearn.ensemble.RandomForestClassifier.html#sklearn.ensemble.RandomForestClassifier), [`sklearn.linear_model.LogisticRegression`](https://scikit-learn.org/stable/modules/generated/sklearn.linear_model.LogisticRegression.html#sklearn.linear_model.LogisticRegression), [`sklearn.svm.LinearSVC`](https://scikit-learn.org/stable/modules/generated/sklearn.svm.LinearSVC.html#sklearn.svm.LinearSVC), whatever) and stick with it for this question.\n",
    "- There is no minimum accuracy/precision/recall for this question. I.e., your mark will not be based on how good your model is. Rather, you mark will be based on good your process is.\n",
    "- Watch out for data leakage and overfitting. In particular, be sure to `fit()` any estimators and transformers (collectively, *objects*) only to the training data, and then use the objects' `transform()` methods on both the training and testing data. [Data School](https://www.youtube.com/c/dataschool/featured) has a [helpful video](https://www.youtube.com/watch?v=g2XsZdwbCCs) about this. [Pipelines](https://www.youtube.com/watch?v=1Y6O9nCo0-I) are very helpful here and make your code shorter and more robust (at the expense of making it harder to understand), and I recommend using them, but they are not required for this assignment.\n",
    "- Create as many code cells as you need. In general, each cell should do one \"thing.\"\n",
    "-\tDon't print large volumes of output. E.g., don't do: `df.head(100)`\n",
    "\n",
    "\n"
   ]
  },
  {
   "cell_type": "markdown",
   "metadata": {
    "id": "jqm_REd4oouz"
   },
   "source": [
    "## 3.0: Load data and split"
   ]
  },
  {
   "cell_type": "code",
   "execution_count": 19,
   "metadata": {
    "id": "X6b_BM0Nz9sF"
   },
   "outputs": [
    {
     "name": "stdout",
     "output_type": "stream",
     "text": [
      "<class 'pandas.core.frame.DataFrame'>\n",
      "RangeIndex: 6000 entries, 0 to 5999\n",
      "Data columns (total 17 columns):\n",
      " #   Column             Non-Null Count  Dtype \n",
      "---  ------             --------------  ----- \n",
      " 0   UserID             6000 non-null   object\n",
      " 1   Sex                6000 non-null   object\n",
      " 2   PreviousDefault    6000 non-null   int64 \n",
      " 3   FirstName          6000 non-null   object\n",
      " 4   LastName           6000 non-null   object\n",
      " 5   NumberPets         6000 non-null   int64 \n",
      " 6   PreviousAccounts   6000 non-null   int64 \n",
      " 7   ResidenceDuration  6000 non-null   int64 \n",
      " 8   Street             6000 non-null   object\n",
      " 9   LicensePlate       6000 non-null   object\n",
      " 10  BadCredit          6000 non-null   int64 \n",
      " 11  Amount             6000 non-null   int64 \n",
      " 12  Married            6000 non-null   int64 \n",
      " 13  Duration           6000 non-null   int64 \n",
      " 14  City               6000 non-null   object\n",
      " 15  Purpose            6000 non-null   object\n",
      " 16  DateOfBirth        6000 non-null   object\n",
      "dtypes: int64(8), object(9)\n",
      "memory usage: 797.0+ KB\n"
     ]
    }
   ],
   "source": [
    "# DO NOT MODIFY THIS CELL\n",
    "\n",
    "# First, we'll read the provided labeled training data\n",
    "df3 = pd.read_csv(\"https://drive.google.com/uc?export=download&id=1wOhyCnvGeY4jplxI8lZ-bbYN3zLtickf\")\n",
    "df3.info()\n",
    "\n",
    "from sklearn.model_selection import train_test_split\n",
    "\n",
    "X = df3.drop('BadCredit', axis=1) #.select_dtypes(['number'])\n",
    "y = df3['BadCredit']\n",
    "\n",
    "X_train, X_test, y_train, y_test = train_test_split(X, y, test_size=0.2, random_state=42)"
   ]
  },
  {
   "cell_type": "markdown",
   "metadata": {
    "id": "sdiKKblCo53S"
   },
   "source": [
    "## 3.1: Baseline model"
   ]
  },
  {
   "cell_type": "code",
   "execution_count": 20,
   "metadata": {
    "id": "mSumAZUAo9O6"
   },
   "outputs": [],
   "source": [
    "#Dropping columns\n",
    "columns_to_drop = ['UserID','FirstName','LastName','Street','LicensePlate','City','DateOfBirth']\n",
    "\n",
    "X_Train_Base = X_train.drop(columns=columns_to_drop,axis=1)\n",
    "X_Test_Base = X_test.drop(columns=columns_to_drop,axis=1)\n"
   ]
  },
  {
   "cell_type": "code",
   "execution_count": 21,
   "metadata": {},
   "outputs": [
    {
     "data": {
      "text/html": [
       "<div>\n",
       "<style scoped>\n",
       "    .dataframe tbody tr th:only-of-type {\n",
       "        vertical-align: middle;\n",
       "    }\n",
       "\n",
       "    .dataframe tbody tr th {\n",
       "        vertical-align: top;\n",
       "    }\n",
       "\n",
       "    .dataframe thead th {\n",
       "        text-align: right;\n",
       "    }\n",
       "</style>\n",
       "<table border=\"1\" class=\"dataframe\">\n",
       "  <thead>\n",
       "    <tr style=\"text-align: right;\">\n",
       "      <th></th>\n",
       "      <th>UserID</th>\n",
       "      <th>Sex</th>\n",
       "      <th>PreviousDefault</th>\n",
       "      <th>FirstName</th>\n",
       "      <th>LastName</th>\n",
       "      <th>NumberPets</th>\n",
       "      <th>PreviousAccounts</th>\n",
       "      <th>ResidenceDuration</th>\n",
       "      <th>Street</th>\n",
       "      <th>LicensePlate</th>\n",
       "      <th>BadCredit</th>\n",
       "      <th>Amount</th>\n",
       "      <th>Married</th>\n",
       "      <th>Duration</th>\n",
       "      <th>City</th>\n",
       "      <th>Purpose</th>\n",
       "      <th>DateOfBirth</th>\n",
       "    </tr>\n",
       "  </thead>\n",
       "  <tbody>\n",
       "    <tr>\n",
       "      <th>0</th>\n",
       "      <td>218-84-8180</td>\n",
       "      <td>F</td>\n",
       "      <td>0</td>\n",
       "      <td>Debra</td>\n",
       "      <td>Schaefer</td>\n",
       "      <td>2</td>\n",
       "      <td>3</td>\n",
       "      <td>1</td>\n",
       "      <td>503 Linda Locks</td>\n",
       "      <td>395C</td>\n",
       "      <td>0</td>\n",
       "      <td>3907</td>\n",
       "      <td>0</td>\n",
       "      <td>24</td>\n",
       "      <td>Port Keith</td>\n",
       "      <td>Vacation</td>\n",
       "      <td>1964-04-07</td>\n",
       "    </tr>\n",
       "    <tr>\n",
       "      <th>1</th>\n",
       "      <td>395-49-9764</td>\n",
       "      <td>M</td>\n",
       "      <td>0</td>\n",
       "      <td>Derek</td>\n",
       "      <td>Wright</td>\n",
       "      <td>0</td>\n",
       "      <td>1</td>\n",
       "      <td>1</td>\n",
       "      <td>969 Cox Dam Suite 101</td>\n",
       "      <td>UFZ 691</td>\n",
       "      <td>0</td>\n",
       "      <td>3235</td>\n",
       "      <td>0</td>\n",
       "      <td>12</td>\n",
       "      <td>Lake Debra</td>\n",
       "      <td>NewCar</td>\n",
       "      <td>1978-06-02</td>\n",
       "    </tr>\n",
       "    <tr>\n",
       "      <th>2</th>\n",
       "      <td>892-81-4890</td>\n",
       "      <td>F</td>\n",
       "      <td>0</td>\n",
       "      <td>Shannon</td>\n",
       "      <td>Smith</td>\n",
       "      <td>0</td>\n",
       "      <td>0</td>\n",
       "      <td>2</td>\n",
       "      <td>845 Kelly Estate</td>\n",
       "      <td>48A•281</td>\n",
       "      <td>0</td>\n",
       "      <td>3108</td>\n",
       "      <td>1</td>\n",
       "      <td>30</td>\n",
       "      <td>North Judithbury</td>\n",
       "      <td>NewCar</td>\n",
       "      <td>1972-03-18</td>\n",
       "    </tr>\n",
       "    <tr>\n",
       "      <th>3</th>\n",
       "      <td>081-11-7963</td>\n",
       "      <td>F</td>\n",
       "      <td>0</td>\n",
       "      <td>Christina</td>\n",
       "      <td>Brooks</td>\n",
       "      <td>2</td>\n",
       "      <td>1</td>\n",
       "      <td>3</td>\n",
       "      <td>809 Burns Creek</td>\n",
       "      <td>30Z J39</td>\n",
       "      <td>1</td>\n",
       "      <td>4014</td>\n",
       "      <td>1</td>\n",
       "      <td>36</td>\n",
       "      <td>Lake Chad</td>\n",
       "      <td>Other</td>\n",
       "      <td>1985-02-26</td>\n",
       "    </tr>\n",
       "    <tr>\n",
       "      <th>4</th>\n",
       "      <td>347-03-9639</td>\n",
       "      <td>M</td>\n",
       "      <td>0</td>\n",
       "      <td>Ralph</td>\n",
       "      <td>Anderson</td>\n",
       "      <td>1</td>\n",
       "      <td>5</td>\n",
       "      <td>1</td>\n",
       "      <td>248 Brandt Plains Apt. 465</td>\n",
       "      <td>71-Q331</td>\n",
       "      <td>1</td>\n",
       "      <td>3823</td>\n",
       "      <td>0</td>\n",
       "      <td>18</td>\n",
       "      <td>North Judithbury</td>\n",
       "      <td>Vacation</td>\n",
       "      <td>1983-08-08</td>\n",
       "    </tr>\n",
       "    <tr>\n",
       "      <th>5</th>\n",
       "      <td>827-53-3120</td>\n",
       "      <td>F</td>\n",
       "      <td>0</td>\n",
       "      <td>Adrienne</td>\n",
       "      <td>Zimmerman</td>\n",
       "      <td>0</td>\n",
       "      <td>0</td>\n",
       "      <td>1</td>\n",
       "      <td>10518 Joshua Oval</td>\n",
       "      <td>9R E9737</td>\n",
       "      <td>0</td>\n",
       "      <td>4110</td>\n",
       "      <td>1</td>\n",
       "      <td>36</td>\n",
       "      <td>East Jill</td>\n",
       "      <td>NewCar</td>\n",
       "      <td>1971-08-17</td>\n",
       "    </tr>\n",
       "    <tr>\n",
       "      <th>6</th>\n",
       "      <td>286-60-4093</td>\n",
       "      <td>F</td>\n",
       "      <td>0</td>\n",
       "      <td>Heather</td>\n",
       "      <td>Jenkins</td>\n",
       "      <td>0</td>\n",
       "      <td>0</td>\n",
       "      <td>4</td>\n",
       "      <td>106 Mcbride Coves</td>\n",
       "      <td>38G 7262</td>\n",
       "      <td>1</td>\n",
       "      <td>3726</td>\n",
       "      <td>0</td>\n",
       "      <td>36</td>\n",
       "      <td>Ericmouth</td>\n",
       "      <td>NewCar</td>\n",
       "      <td>1982-04-14</td>\n",
       "    </tr>\n",
       "    <tr>\n",
       "      <th>7</th>\n",
       "      <td>293-55-9106</td>\n",
       "      <td>M</td>\n",
       "      <td>0</td>\n",
       "      <td>Brent</td>\n",
       "      <td>Pearson</td>\n",
       "      <td>0</td>\n",
       "      <td>2</td>\n",
       "      <td>1</td>\n",
       "      <td>32677 Michelle Circle</td>\n",
       "      <td>ZMA 647</td>\n",
       "      <td>0</td>\n",
       "      <td>3288</td>\n",
       "      <td>1</td>\n",
       "      <td>18</td>\n",
       "      <td>Lake Debra</td>\n",
       "      <td>UsedCar</td>\n",
       "      <td>1973-10-31</td>\n",
       "    </tr>\n",
       "    <tr>\n",
       "      <th>8</th>\n",
       "      <td>610-09-3854</td>\n",
       "      <td>F</td>\n",
       "      <td>0</td>\n",
       "      <td>Cheryl</td>\n",
       "      <td>Robinson</td>\n",
       "      <td>2</td>\n",
       "      <td>2</td>\n",
       "      <td>2</td>\n",
       "      <td>805 Brendan Neck</td>\n",
       "      <td>121-QFBQ</td>\n",
       "      <td>0</td>\n",
       "      <td>3501</td>\n",
       "      <td>0</td>\n",
       "      <td>30</td>\n",
       "      <td>East Jessetown</td>\n",
       "      <td>Household</td>\n",
       "      <td>1978-04-13</td>\n",
       "    </tr>\n",
       "    <tr>\n",
       "      <th>9</th>\n",
       "      <td>324-97-1189</td>\n",
       "      <td>F</td>\n",
       "      <td>0</td>\n",
       "      <td>Lauren</td>\n",
       "      <td>Williams</td>\n",
       "      <td>0</td>\n",
       "      <td>3</td>\n",
       "      <td>1</td>\n",
       "      <td>9985 Harris Stravenue</td>\n",
       "      <td>247 HIM</td>\n",
       "      <td>0</td>\n",
       "      <td>3791</td>\n",
       "      <td>1</td>\n",
       "      <td>12</td>\n",
       "      <td>North Judithbury</td>\n",
       "      <td>NewCar</td>\n",
       "      <td>1971-06-12</td>\n",
       "    </tr>\n",
       "  </tbody>\n",
       "</table>\n",
       "</div>"
      ],
      "text/plain": [
       "        UserID Sex  PreviousDefault  FirstName   LastName  NumberPets  \\\n",
       "0  218-84-8180   F                0      Debra   Schaefer           2   \n",
       "1  395-49-9764   M                0      Derek     Wright           0   \n",
       "2  892-81-4890   F                0    Shannon      Smith           0   \n",
       "3  081-11-7963   F                0  Christina     Brooks           2   \n",
       "4  347-03-9639   M                0      Ralph   Anderson           1   \n",
       "5  827-53-3120   F                0   Adrienne  Zimmerman           0   \n",
       "6  286-60-4093   F                0    Heather    Jenkins           0   \n",
       "7  293-55-9106   M                0      Brent    Pearson           0   \n",
       "8  610-09-3854   F                0     Cheryl   Robinson           2   \n",
       "9  324-97-1189   F                0     Lauren   Williams           0   \n",
       "\n",
       "   PreviousAccounts  ResidenceDuration                      Street  \\\n",
       "0                 3                  1             503 Linda Locks   \n",
       "1                 1                  1       969 Cox Dam Suite 101   \n",
       "2                 0                  2            845 Kelly Estate   \n",
       "3                 1                  3             809 Burns Creek   \n",
       "4                 5                  1  248 Brandt Plains Apt. 465   \n",
       "5                 0                  1           10518 Joshua Oval   \n",
       "6                 0                  4           106 Mcbride Coves   \n",
       "7                 2                  1       32677 Michelle Circle   \n",
       "8                 2                  2            805 Brendan Neck   \n",
       "9                 3                  1       9985 Harris Stravenue   \n",
       "\n",
       "  LicensePlate  BadCredit  Amount  Married  Duration              City  \\\n",
       "0         395C          0    3907        0        24        Port Keith   \n",
       "1      UFZ 691          0    3235        0        12        Lake Debra   \n",
       "2      48A•281          0    3108        1        30  North Judithbury   \n",
       "3      30Z J39          1    4014        1        36         Lake Chad   \n",
       "4      71-Q331          1    3823        0        18  North Judithbury   \n",
       "5     9R E9737          0    4110        1        36         East Jill   \n",
       "6     38G 7262          1    3726        0        36         Ericmouth   \n",
       "7      ZMA 647          0    3288        1        18        Lake Debra   \n",
       "8     121-QFBQ          0    3501        0        30    East Jessetown   \n",
       "9      247 HIM          0    3791        1        12  North Judithbury   \n",
       "\n",
       "     Purpose DateOfBirth  \n",
       "0   Vacation  1964-04-07  \n",
       "1     NewCar  1978-06-02  \n",
       "2     NewCar  1972-03-18  \n",
       "3      Other  1985-02-26  \n",
       "4   Vacation  1983-08-08  \n",
       "5     NewCar  1971-08-17  \n",
       "6     NewCar  1982-04-14  \n",
       "7    UsedCar  1973-10-31  \n",
       "8  Household  1978-04-13  \n",
       "9     NewCar  1971-06-12  "
      ]
     },
     "execution_count": 21,
     "metadata": {},
     "output_type": "execute_result"
    }
   ],
   "source": [
    "df3.head(10)"
   ]
  },
  {
   "cell_type": "code",
   "execution_count": 22,
   "metadata": {},
   "outputs": [],
   "source": [
    "#encoding\n",
    "from sklearn.preprocessing import LabelEncoder\n",
    "le = LabelEncoder()\n",
    "\n",
    "categorical_columns=['Sex','Purpose']\n",
    "\n",
    "#applying encoding \n",
    "for col in categorical_columns:\n",
    "    X_Train_Base[col]=le.fit_transform(X_Train_Base[col])\n",
    "    X_Test_Base[col]=le.fit_transform(X_Test_Base[col])"
   ]
  },
  {
   "cell_type": "code",
   "execution_count": 23,
   "metadata": {},
   "outputs": [
    {
     "name": "stdout",
     "output_type": "stream",
     "text": [
      "Baseline Mean Random Forest AUC_ROC: 0.82037\n"
     ]
    }
   ],
   "source": [
    "#baseline model\n",
    "from sklearn.ensemble import RandomForestClassifier\n",
    "from sklearn.model_selection import cross_val_score\n",
    "\n",
    "base_model = RandomForestClassifier (random_state=42)\n",
    "\n",
    "val = cross_val_score(base_model,X_Train_Base,y_train,cv=5,scoring='roc_auc')\n",
    "\n",
    "print(f'Baseline Mean Random Forest AUC_ROC: {np.mean(val):.5f}')"
   ]
  },
  {
   "cell_type": "markdown",
   "metadata": {
    "id": "ugyTS51Ko5vz"
   },
   "source": [
    "## 3.2: Adding feature engineering"
   ]
  },
  {
   "cell_type": "code",
   "execution_count": 24,
   "metadata": {
    "id": "742aYkYbprVD"
   },
   "outputs": [],
   "source": [
    "#Using original data for feature engineering\n",
    "\n",
    "columns_to_drop2 = ['UserID','FirstName','LastName','Street','LicensePlate',]\n",
    "\n",
    "X_Train_Base2 = X_train.copy()\n",
    "X_Test_Base2 = X_test.copy()\n",
    "\n",
    "X_Train_Base2 = X_Train_Base2.drop(columns=columns_to_drop2,axis=1)\n",
    "X_Test_Base2 = X_Test_Base2.drop(columns=columns_to_drop2,axis=1)\n",
    "\n",
    "#city average amount\n",
    "city_group = X_Train_Base2.groupby('City')['Amount']\n",
    "X_Train_Base2['CityAverageAmount'] = X_Train_Base2['City'].map(city_group.mean())\n",
    "X_Test_Base2['CityAverageAmount'] = X_Test_Base2['City'].map(city_group.mean())"
   ]
  },
  {
   "cell_type": "code",
   "execution_count": 25,
   "metadata": {},
   "outputs": [],
   "source": [
    "#applying one hot encoding \n",
    "X_Train_Base2 = pd.get_dummies(X_Train_Base2, columns=['Sex', 'Purpose', 'City'], drop_first=True)\n",
    "X_Test_Base2 = pd.get_dummies(X_Test_Base2, columns=['Sex', 'Purpose', 'City'], drop_first=True)"
   ]
  },
  {
   "cell_type": "code",
   "execution_count": 26,
   "metadata": {},
   "outputs": [],
   "source": [
    "#Age Feature\n",
    "current_year=2022\n",
    "\n",
    "#convert object to time series\n",
    "X_Train_Base2['DateOfBirth'] = pd.to_datetime(X_Train_Base2['DateOfBirth'], errors='coerce')\n",
    "X_Test_Base2['DateOfBirth'] = pd.to_datetime(X_Test_Base2['DateOfBirth'], errors='coerce')\n",
    "\n",
    "#making age feature\n",
    "X_Train_Base2['Age'] = current_year - X_Train_Base2['DateOfBirth'].dt.year\n",
    "X_Test_Base2['Age'] = current_year - X_Test_Base2['DateOfBirth'].dt.year\n",
    "\n",
    "#dropping date of birth\n",
    "X_Train_Base2 = X_Train_Base2.drop(columns='DateOfBirth')\n",
    "X_Test_Base2 = X_Test_Base2.drop(columns='DateOfBirth')"
   ]
  },
  {
   "cell_type": "code",
   "execution_count": 27,
   "metadata": {},
   "outputs": [],
   "source": [
    "#Number of Dependants\n",
    "X_Train_Base2['Dependants'] = X_Train_Base2['Married'] + X_Train_Base2['NumberPets']\n",
    "X_Test_Base2['Dependants'] = X_Test_Base2['Married'] - X_Test_Base2['NumberPets']"
   ]
  },
  {
   "cell_type": "code",
   "execution_count": 28,
   "metadata": {},
   "outputs": [],
   "source": [
    "#monthly payment \n",
    "X_Train_Base2['MonthlyPayment'] = X_Train_Base2['Amount']/X_Train_Base2['Duration']\n",
    "X_Test_Base2['MonthlyPayment'] = X_Test_Base2['Amount']/X_Test_Base2['Duration']"
   ]
  },
  {
   "cell_type": "code",
   "execution_count": 29,
   "metadata": {},
   "outputs": [],
   "source": [
    "#changing all my bools for consistency\n",
    "bool_columns_train = X_Train_Base2.select_dtypes(include='bool').columns\n",
    "bool_columns_test = X_Test_Base2.select_dtypes(include='bool').columns\n",
    "\n",
    "X_Train_Base2[bool_columns_train]=X_Train_Base2[bool_columns_train].astype('int64')\n",
    "X_Test_Base2[bool_columns_test]=X_Test_Base2[bool_columns_test].astype('int64')\n",
    "\n",
    "#scaling\n",
    "numeric_columns = ['NumberPets','PreviousAccounts','ResidenceDuration','Amount','Duration','CityAverageAmount','Age','Dependants','MonthlyPayment']\n",
    "\n",
    "scaler = StandardScaler()\n",
    "\n",
    "X_Train_Base2[numeric_columns] = scaler.fit_transform(X_Train_Base2[numeric_columns])\n",
    "X_Test_Base2[numeric_columns] = scaler.fit_transform(X_Test_Base2[numeric_columns])"
   ]
  },
  {
   "cell_type": "code",
   "execution_count": 30,
   "metadata": {},
   "outputs": [
    {
     "name": "stdout",
     "output_type": "stream",
     "text": [
      "Baseline Mean Random Forest AUC_ROC: 0.90887\n"
     ]
    }
   ],
   "source": [
    "#retraining baseline model with feature engineering\n",
    "base_model2 = RandomForestClassifier (random_state=42)\n",
    "\n",
    "val2 = cross_val_score(base_model2,X_Train_Base2,y_train,cv=5,scoring='roc_auc')\n",
    "\n",
    "print(f'Baseline Mean Random Forest AUC_ROC: {np.mean(val2):.5f}')"
   ]
  },
  {
   "cell_type": "markdown",
   "metadata": {
    "id": "PsdD0clko5pz"
   },
   "source": [
    "## 3.3: Adding feature selection"
   ]
  },
  {
   "cell_type": "code",
   "execution_count": 31,
   "metadata": {
    "id": "rxX2ERqzpqxi"
   },
   "outputs": [],
   "source": [
    "#univariate feature selection\n",
    "from sklearn.feature_selection import SelectKBest\n",
    "from sklearn.feature_selection import f_classif, chi2\n",
    "\n",
    "selector = SelectKBest(score_func=f_classif, k=15)"
   ]
  },
  {
   "cell_type": "code",
   "execution_count": 32,
   "metadata": {},
   "outputs": [
    {
     "name": "stdout",
     "output_type": "stream",
     "text": [
      "Selected Features: ['PreviousDefault', 'ResidenceDuration', 'Amount', 'Married', 'Duration', 'CityAverageAmount', 'Purpose_Education', 'Purpose_Household', 'Purpose_NewCar', 'Purpose_Other', 'City_Port Jesseville', 'City_Port Keith', 'City_Ramirezstad', 'Age', 'Dependants']\n"
     ]
    }
   ],
   "source": [
    "# Fit and transform\n",
    "X_Train_Sel = selector.fit_transform(X_Train_Base2, y_train)\n",
    "X_Test_Sel = selector.transform(X_Test_Base2)\n",
    "# Use get_support() to get the selected feature mask\n",
    "selected_mask = selector.get_support()\n",
    "\n",
    "# Get selected feature names from the original DataFrame\n",
    "selected_features = X_Train_Base2.columns[selected_mask]\n",
    "\n",
    "# Print selected features\n",
    "print(f\"Selected Features: {selected_features.tolist()}\")"
   ]
  },
  {
   "cell_type": "code",
   "execution_count": 33,
   "metadata": {},
   "outputs": [
    {
     "name": "stdout",
     "output_type": "stream",
     "text": [
      "feature selected roc-auc:0.910\n"
     ]
    }
   ],
   "source": [
    "#modelling with selected features\n",
    "feature_selected=RandomForestClassifier(random_state=42)\n",
    "\n",
    "cross_val_score_selected=cross_val_score(feature_selected,X_Train_Sel,y_train,cv=5,scoring='roc_auc')\n",
    "\n",
    "print(f\"feature selected roc-auc:{np.mean(cross_val_score_selected):.3f}\")"
   ]
  },
  {
   "cell_type": "markdown",
   "metadata": {
    "id": "Ff4l2aNKo5fr"
   },
   "source": [
    "## 3.4: Adding hyperparameter tuning"
   ]
  },
  {
   "cell_type": "code",
   "execution_count": 34,
   "metadata": {
    "id": "7XaxtTWMpIpP"
   },
   "outputs": [],
   "source": [
    "#defining hyperparameter grid\n",
    "from sklearn.model_selection import GridSearchCV\n",
    "\n",
    "parameter_grid = {\n",
    "    'n_estimators':[100,200,300],\n",
    "    'max_depth':[10,20,30,None],\n",
    "    'min_samples_split':[2,5,10],\n",
    "    'min_samples_leaf':[1,2,4]\n",
    "}\n"
   ]
  },
  {
   "cell_type": "code",
   "execution_count": 35,
   "metadata": {},
   "outputs": [
    {
     "name": "stdout",
     "output_type": "stream",
     "text": [
      "Fitting 5 folds for each of 108 candidates, totalling 540 fits\n",
      "Best Parameters:{'max_depth': 10, 'min_samples_leaf': 1, 'min_samples_split': 5, 'n_estimators': 300}\n",
      "Tuned Model ROC-AUC:0.919\n"
     ]
    }
   ],
   "source": [
    "#grid search\n",
    "grid_search =  GridSearchCV(\n",
    "    estimator=RandomForestClassifier(random_state=42),\n",
    "    param_grid=parameter_grid,\n",
    "    cv=5,\n",
    "    scoring='roc_auc',\n",
    "    n_jobs=-1,\n",
    "    verbose=1\n",
    ")\n",
    "\n",
    "grid_search.fit(X_Train_Sel,y_train)\n",
    "\n",
    "print(f\"Best Parameters:{grid_search.best_params_}\")\n",
    "print(f\"Tuned Model ROC-AUC:{grid_search.best_score_:.3f}\")"
   ]
  },
  {
   "cell_type": "markdown",
   "metadata": {
    "id": "Te9gGGLEpXRG"
   },
   "source": [
    "## 3.5: Performance estimation on testing data"
   ]
  },
  {
   "cell_type": "code",
   "execution_count": 36,
   "metadata": {
    "id": "YV_35bEupbfs"
   },
   "outputs": [
    {
     "name": "stdout",
     "output_type": "stream",
     "text": [
      "final roc-auc on unseen testing data: 0.9283\n"
     ]
    }
   ],
   "source": [
    "from sklearn.metrics import classification_report, roc_auc_score, f1_score\n",
    "y_pred=grid_search.best_estimator_.predict_proba(X_Test_Sel)[:,1]\n",
    "\n",
    "#testing data\n",
    "test_results=roc_auc_score(y_test,y_pred)\n",
    "print(f'final roc-auc on unseen testing data: {test_results:.4f}')"
   ]
  },
  {
   "cell_type": "markdown",
   "metadata": {
    "id": "bPiErnUaTQSk"
   },
   "source": [
    "# Question 4: Uncle Steve's Wind Farm"
   ]
  },
  {
   "cell_type": "markdown",
   "metadata": {
    "id": "NzLLQCmKTk9E"
   },
   "source": [
    "## Instructions\n",
    "\n",
    "\n",
    "Uncle Steve has invested in wind. He's built a BIG wind farm with a total of  700 turbines. He's been running the farm for a couple of years now and things are going well. He sells the power generated by the farm to the Kingston government and makes a tidy profit. And, of course, he has been gathering data about the turbines' operations.\n",
    "\n",
    "One area of concern, however, is the cost of maintenece. While the turbines are fairly robust, it seems like one breaks/fails every couple of days. When a turbine fails, it usually costs around \\$20,000 to repair it. Yikes!\n",
    "\n",
    "Currently, Uncle Steve is not doing any preventative maintenance. He just waits until a turbine fails, and then he fixes it. But Uncle Steve has recently learned that if he services a turbine *before* it fails, it will only cost around $2,000.\n",
    "\n",
    "Obviously, there is a potential to save a lot of money here. But first, Uncle Steve would need to figure out *which* turbines are about to fail. Uncle Steve being Uncle Steve, he wants to use ML to build a predictive maintenance model. The model will alert Uncle Steve to potential turbine failures before they happen, giving Uncle Steve a chance to perform an inspection on the turbine and then fix the turbine before it fails. Uncle Steve plans to run the model every morning. For all the turbines that the model predicts will fail, Uncle Steve will order an inspection (which cost a flat \\$500, no matter if the turbine was in good health or not; the \\$500 would not be part of the $2,000 service cost). For the rest of the turbines, Uncle Steve will do nothing.\n",
    "\n",
    "Uncle Steve has used the last few year's worth of operation data to build and assess a model to predict which turbines will fail on any given day. (The data includes useful features like sensor readings, power output, weather, and many more, but those are not important for now.) In fact, he didn't stop there: he built and assessed two models. One model uses using deep learning (in this case, RNNs), and the other uses random forests.\n",
    "\n",
    "He's tuned the bejeebers out of each model and is comfortable that he has found the best-performing version of each. Both models seem really good: both have accuracy scores > 99%. The RNN has better recall, but Uncle Steve is convinced that the random forest model will be better for him since it has better precision. Just to be sure, he has hired you to double check his calculations.\n",
    "\n",
    "**Your task**\n",
    "\n",
    " Which model will save Uncle Steve more money? Justify.\n",
    "\n",
    "\n",
    "In addition to the details above, here is the assessment of each model:\n",
    "\n",
    "- Confusion matrix for the random forest:\n",
    "\n",
    "|         | Predicted Fail           | Predicted No Fail  |\n",
    "| ------------- |------------| -----:|\n",
    "| **Actual Fail**      | 201 | 55 |\n",
    "| **Actual No Fail**   | 50 | 255195 |\n",
    "\n",
    "- Confusion matrix for the RNN:\n",
    "\n",
    "|         | Predicted Fail           | Predicted No Fail  |\n",
    "| ------------- |------------| -----:|\n",
    "| **Actual Fail**      | 226 | 30 |\n",
    "| **Actual No Fail**   | 1200 | 254045 |\n",
    "\n",
    "\n",
    "**Marking**\n",
    "\n",
    "- *Quality*. Response is well-justified and convincing.\n",
    "- *Style*. Response uses proper grammar, spelling, and punctuation. Response is clear and professional. Response is complete, but not overly-verbose. Response follows length guidelines.\n",
    "\n",
    "\n",
    "\n",
    "**Tips**\n",
    "\n",
    "- Figure out how much Uncle Steve is currently (i.e., without any predictive maintinance models) paying in maintenance costs.\n",
    "- Use the information provided above to create a cost matrix.\n",
    "- Use the cost matrix and the confusion matrices to determine the costs of each model.\n",
    "- The cost of an inspection is the same, no matter if the turbine is in good condition or is about to fail.\n",
    "- If the inspection determines that a turbine is about to fail, then it will be fixed right then and there for the additional fee.\n",
    "- For simplicity, assume the inspections are perfect: i.e., that inspecting a turbine will definitely catch any problems that might exist, and won't accidentally flag an otherwise-healthy turbine.\n",
    "\n"
   ]
  },
  {
   "cell_type": "markdown",
   "metadata": {
    "id": "nAf1SIeKTkfl"
   },
   "source": [
    "**Answer**\n",
    "\n",
    "**Random Forest Costs**\n",
    "True Positive Cost = 201 * (2000 + 500) = $502,500\n",
    "False Negative Cost = 55 * 20,000 = $1,100,000\n",
    "False Positive Cost = 50 * 500 = $25,000\n",
    "True Negative Cost = 0\n",
    "\n",
    "**RNN Costs**\n",
    "True Positive Cost = 226 * (2000 + 500) = $565,000\n",
    "False Negative Cost = 30 * 20,000 = $600,000\n",
    "False Positive Cost = 1200 * 500 = $600,000\n",
    "True Negative Cost = 0\n",
    "\n",
    "**Comparirson**\n",
    "RF Cost: $1,627,500\n",
    "RNN Cost: $1,765,000 \n",
    "\n",
    "The Random Forest model results in $137,500 less cost compared to the RNN model. While the RNN model has better recall (catches more failures), its significantly higher false positive rate increases the cost of unnecessary inspections. The Random Forest model strikes a better balance by reducing unnecessary inspections while still identifying a high number of actual failures.\n",
    "\n",
    "Uncle Steve should choose the Random Forest model as it will save him $137,500 compared to the RNN model. This model offers a more cost-effective approach to predictive maintenance, balancing precision and recall to minimize overall costs."
   ]
  }
 ],
 "metadata": {
  "colab": {
   "provenance": [],
   "toc_visible": true
  },
  "kernelspec": {
   "display_name": "Python 3",
   "name": "python3"
  },
  "language_info": {
   "codemirror_mode": {
    "name": "ipython",
    "version": 3
   },
   "file_extension": ".py",
   "mimetype": "text/x-python",
   "name": "python",
   "nbconvert_exporter": "python",
   "pygments_lexer": "ipython3",
   "version": "3.12.3"
  }
 },
 "nbformat": 4,
 "nbformat_minor": 0
}
