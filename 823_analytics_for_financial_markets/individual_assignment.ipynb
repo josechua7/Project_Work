{
 "cells": [
  {
   "cell_type": "code",
   "execution_count": 1,
   "metadata": {},
   "outputs": [],
   "source": [
    "#libraries\n",
    "import pandas as pd\n",
    "import numpy as np\n",
    "import yfinance as yf"
   ]
  },
  {
   "cell_type": "code",
   "execution_count": 9,
   "metadata": {},
   "outputs": [
    {
     "name": "stderr",
     "output_type": "stream",
     "text": [
      "[*********************100%***********************]  4 of 4 completed\n"
     ]
    }
   ],
   "source": [
    "tickers = [\"RACE\", \"TSLA\", \"JNJ\", \"XOM\"]\n",
    "start_date = \"2015-01-02\"\n",
    "end_date = \"2025-01-02\"\n",
    "data = yf.download(tickers, start=start_date, end=end_date, interval=\"1wk\")"
   ]
  },
  {
   "cell_type": "code",
   "execution_count": 23,
   "metadata": {},
   "outputs": [],
   "source": [
    "if \"Adj Close\" in data.columns:\n",
    "    price_data = data[\"Adj Close\"]\n",
    "else:\n",
    "    price_data = data[\"Close\"]"
   ]
  },
  {
   "cell_type": "code",
   "execution_count": 24,
   "metadata": {},
   "outputs": [],
   "source": [
    "returns = price_data.pct_change().dropna()"
   ]
  },
  {
   "cell_type": "code",
   "execution_count": 25,
   "metadata": {},
   "outputs": [
    {
     "name": "stderr",
     "output_type": "stream",
     "text": [
      "[*********************100%***********************]  1 of 1 completed\n"
     ]
    }
   ],
   "source": [
    "rf_data = yf.download(\"^IRX\", start=start_date, end=end_date, interval=\"1wk\")"
   ]
  },
  {
   "cell_type": "code",
   "execution_count": 26,
   "metadata": {},
   "outputs": [
    {
     "name": "stdout",
     "output_type": "stream",
     "text": [
      "MultiIndex([( 'Close', '^IRX'),\n",
      "            (  'High', '^IRX'),\n",
      "            (   'Low', '^IRX'),\n",
      "            (  'Open', '^IRX'),\n",
      "            ('Volume', '^IRX')],\n",
      "           names=['Price', 'Ticker'])\n"
     ]
    }
   ],
   "source": [
    "print(rf_data.columns)"
   ]
  },
  {
   "cell_type": "code",
   "execution_count": 28,
   "metadata": {},
   "outputs": [],
   "source": [
    "if \"Adj Close\" in rf_data.columns:\n",
    "    rf_weekly = (rf_data[\"Adj Close\"] / 100) / 52  # Convert percentage to decimal and scale to weekly rate\n",
    "elif \"Close\" in rf_data.columns:\n",
    "    rf_weekly = (rf_data[\"Close\"] / 100) / 52\n",
    "else:\n",
    "    print(\"Risk-Free Rate Data Unavailable\")"
   ]
  },
  {
   "cell_type": "code",
   "execution_count": 30,
   "metadata": {},
   "outputs": [
    {
     "name": "stdout",
     "output_type": "stream",
     "text": [
      "Ticker           JNJ      RACE      TSLA       XOM  Risk-Free Rate\n",
      "Date                                                              \n",
      "2015-10-22  0.029192  0.000000  0.013661  0.025807        0.000007\n",
      "2015-10-26  0.000000 -0.105534  0.000000  0.000000             NaN\n",
      "2015-10-29  0.014530  0.000000  0.087669  0.044969        0.000011\n",
      "2015-11-02  0.000000  0.039659  0.000000  0.000000             NaN\n",
      "2015-11-05 -0.000785  0.000000 -0.054181 -0.050710        0.000024\n"
     ]
    }
   ],
   "source": [
    "print(returns.head())"
   ]
  }
 ],
 "metadata": {
  "kernelspec": {
   "display_name": "base",
   "language": "python",
   "name": "python3"
  },
  "language_info": {
   "codemirror_mode": {
    "name": "ipython",
    "version": 3
   },
   "file_extension": ".py",
   "mimetype": "text/x-python",
   "name": "python",
   "nbconvert_exporter": "python",
   "pygments_lexer": "ipython3",
   "version": "3.9.7"
  }
 },
 "nbformat": 4,
 "nbformat_minor": 2
}
